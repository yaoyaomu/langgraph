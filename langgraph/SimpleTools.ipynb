{
 "cells": [
  {
   "cell_type": "code",
   "execution_count": null,
   "id": "4130f7c4",
   "metadata": {},
   "outputs": [
    {
     "data": {
      "text/plain": [
       "True"
      ]
     },
     "execution_count": 1,
     "metadata": {},
     "output_type": "execute_result"
    }
   ],
   "source": [
    "from typing import Annotated, Sequence, TypedDict\n",
    "from dotenv import load_dotenv\n",
    "from langchain_core.messages import BaseMessage #所有信息的父类\n",
    "from langchain_core.messages import ToolMessage #在调用tool后将信息传回给LLM\n",
    "from langchain_core.messages import SystemMessage #为LLM提供指导的信息（prompting）\n",
    "from langchain_community.llms import Tongyi\n",
    "from langchain_community.chat_models.tongyi import ChatTongyi\n",
    "from langchain_core.tools import tool\n",
    "from langgraph.graph.message import add_messages\n",
    "from langgraph.graph import StateGraph, END\n",
    "from langgraph.prebuilt import ToolNode\n",
    "load_dotenv()\n"
   ]
  },
  {
   "cell_type": "code",
   "execution_count": null,
   "id": "4c8e207c",
   "metadata": {},
   "outputs": [
    {
     "name": "stdout",
     "output_type": "stream",
     "text": [
      "('Email address of the user.',)\n"
     ]
    }
   ],
   "source": [
    "email =  Annotated[str, \"Email address of the user.\"]\n",
    "print(email.__metadata__)\n",
    "# Squence 自动更新序列\n"
   ]
  },
  {
   "cell_type": "markdown",
   "id": "1a73f921",
   "metadata": {},
   "source": [
    "### Reducer Function（向后添加而不是覆盖）\n",
    "- Rule that controls how updates from nodes are combinedwith the existingstate.\n",
    "- Tells us how to merge new data into the current state\n",
    "- Without a reducer, updates would have replaced the existing value entirely!\n",
    "\n",
    "- Without a reducer\n",
    "state={\"messages\": [\"Hi!\"]}\n",
    "update =\n",
    "new_state=\n",
    "{\"messageb\":[\"Nice to meet you!\"]}\n",
    "messages\":[\"Nicetomeetyou!\"]}\n",
    "\n",
    "- With a reducer\n",
    "state\n",
    "update\n",
    "new state\n",
    "'messages\":[\"Hi!\"]}\n",
    "messages\n",
    "[\"Nice to meet you!\"]}\n",
    "messages\":[\"Hi!\", \"Nice to meet you!\"]}"
   ]
  },
  {
   "cell_type": "code",
   "execution_count": 3,
   "id": "838fcf16",
   "metadata": {},
   "outputs": [],
   "source": [
    "class AgentState(TypedDict):\n",
    "    messages: Annotated[Sequence[BaseMessage], add_messages]\n"
   ]
  },
  {
   "cell_type": "code",
   "execution_count": 4,
   "id": "e6cb1312",
   "metadata": {},
   "outputs": [],
   "source": [
    "@tool\n",
    "def add(a: int, b: int):\n",
    "    \"\"\"Add two numbers.\"\"\"\n",
    "    return a + b\n",
    "\n",
    "tools = [add]\n"
   ]
  },
  {
   "cell_type": "code",
   "execution_count": 5,
   "id": "02932a41",
   "metadata": {},
   "outputs": [],
   "source": [
    "model = ChatTongyi(model=\"qwen-plus\").bind_tools(tools)"
   ]
  },
  {
   "cell_type": "code",
   "execution_count": 6,
   "id": "2373bb73",
   "metadata": {},
   "outputs": [],
   "source": [
    "def model_call(state:AgentState) -> AgentState:\n",
    "    system_prompt = SystemMessage(content=\"You are a helpful assistant.\")\n",
    "\n",
    "    response = model.invoke([system_prompt] + state[\"messages\"])\n",
    "    return {\"messages\":[response]}"
   ]
  },
  {
   "cell_type": "code",
   "execution_count": 7,
   "id": "34f12171",
   "metadata": {},
   "outputs": [],
   "source": [
    "def should_continue(state:AgentState):\n",
    "    messages = state[\"messages\"]\n",
    "    last_message = messages[-1]\n",
    "    if not last_message.tool_calls:\n",
    "        return \"end\"\n",
    "    else:\n",
    "        return \"continue\""
   ]
  },
  {
   "cell_type": "code",
   "execution_count": 8,
   "id": "aea61cb7",
   "metadata": {},
   "outputs": [],
   "source": [
    "graph = StateGraph(AgentState) \n",
    "graph.add_node(\"our_agent\",model_call)\n",
    "\n",
    "tool_node = ToolNode(tools=tools)\n",
    "graph.add_node(\"tools\",tool_node)\n",
    "\n",
    "graph.set_entry_point(\"our_agent\")\n",
    "\n",
    "graph.add_conditional_edges(\n",
    "    \"our_agent\",\n",
    "    should_continue,\n",
    "    {\n",
    "        \"continue\": \"tools\",\n",
    "        \"end\": END,\n",
    "    }\n",
    ")\n",
    "graph.add_edge(\"tools\", \"our_agent\")\n",
    "\n",
    "app = graph.compile()"
   ]
  },
  {
   "cell_type": "code",
   "execution_count": 9,
   "id": "b51e0933",
   "metadata": {},
   "outputs": [],
   "source": [
    "def print_stream(stream):\n",
    "    for s in stream:\n",
    "        message = s[\"messages\"][-1]\n",
    "        if isinstance(message, tuple):\n",
    "            print(message)\n",
    "        else:\n",
    "            message.pretty_print()"
   ]
  },
  {
   "cell_type": "code",
   "execution_count": 11,
   "id": "3746362d",
   "metadata": {},
   "outputs": [],
   "source": [
    "inputs = {\"messages\":[(\"user\",\"add 3 + 4.\")]}\n",
    "print_stream(app.stream(inputs,stream_mode=\"value\"))  # or \"all\" for all messages\n"
   ]
  },
  {
   "cell_type": "code",
   "execution_count": null,
   "id": "6d822524",
   "metadata": {},
   "outputs": [],
   "source": []
  }
 ],
 "metadata": {
  "kernelspec": {
   "display_name": "base",
   "language": "python",
   "name": "python3"
  },
  "language_info": {
   "codemirror_mode": {
    "name": "ipython",
    "version": 3
   },
   "file_extension": ".py",
   "mimetype": "text/x-python",
   "name": "python",
   "nbconvert_exporter": "python",
   "pygments_lexer": "ipython3",
   "version": "3.12.3"
  }
 },
 "nbformat": 4,
 "nbformat_minor": 5
}
