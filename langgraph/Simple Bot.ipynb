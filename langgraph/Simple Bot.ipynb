{
 "cells": [
  {
   "cell_type": "markdown",
   "id": "21627cd8",
   "metadata": {},
   "source": [
    "# 最简单的流程（拥有LLM版）"
   ]
  },
  {
   "cell_type": "code",
   "execution_count": 18,
   "id": "90389c81",
   "metadata": {},
   "outputs": [],
   "source": [
    "from typing import TypedDict, List\n",
    "from langchain_core.messages import HumanMessage\n",
    "# from langchian_openai import ChatOpenAI\n",
    "from langchain_community.llms import Tongyi\n",
    "from langchain_community.chat_models.tongyi import ChatTongyi\n",
    "from langgraph.graph import StateGraph,START,END\n",
    "from dotenv import load_dotenv # 存储密钥等配置文件。Load environment variables from .env file\n",
    "import os\n",
    "# import langchain_openai"
   ]
  },
  {
   "cell_type": "code",
   "execution_count": 15,
   "id": "adf80175",
   "metadata": {},
   "outputs": [
    {
     "data": {
      "text/plain": [
       "True"
      ]
     },
     "execution_count": 15,
     "metadata": {},
     "output_type": "execute_result"
    }
   ],
   "source": [
    "load_dotenv() # Load environment variables from .env file   "
   ]
  },
  {
   "cell_type": "code",
   "execution_count": 16,
   "id": "2f198fda",
   "metadata": {},
   "outputs": [],
   "source": [
    "class AgentState(TypedDict):\n",
    "    \"\"\"State of the agent.\"\"\"\n",
    "    messages: List[HumanMessage]  # List of messages in the conversation\n"
   ]
  },
  {
   "cell_type": "code",
   "execution_count": 19,
   "id": "b882d99c",
   "metadata": {},
   "outputs": [],
   "source": [
    "# os.environ[\"DASHSCOPE_API_KEY\"] = 'sk-66128b000d7a440dad5487870669c0c7'\n",
    "model = Tongyi()\n",
    "llm = ChatTongyi(model=\"qwen-plus\")\n"
   ]
  },
  {
   "cell_type": "code",
   "execution_count": 20,
   "id": "73cc4c76",
   "metadata": {},
   "outputs": [],
   "source": [
    "def process(state: AgentState) -> AgentState:\n",
    "    \"\"\"Process the state and return a new state.\"\"\"\n",
    "    response = llm.invoke(state['messages'])\n",
    "    print(f\"\\nAI Response: {response.content}\\n\")\n",
    "    # Return the updated state\n",
    "    return state"
   ]
  },
  {
   "cell_type": "code",
   "execution_count": 21,
   "id": "85838827",
   "metadata": {},
   "outputs": [],
   "source": [
    "graph = StateGraph(AgentState) \n",
    "graph.add_node(\"process\", process)\n",
    "graph.add_edge(START, \"process\")\n",
    "graph.add_edge(\"process\", END)\n",
    "agent = graph.compile()\n"
   ]
  },
  {
   "cell_type": "code",
   "execution_count": 23,
   "id": "62c49e95",
   "metadata": {},
   "outputs": [
    {
     "name": "stdout",
     "output_type": "stream",
     "text": [
      "\n",
      "AI Response: I am Qwen, a large-scale language model developed by Alibaba Cloud. I have been trained to understand and generate text in multiple languages, including Chinese, English, German, French, Spanish, and many others. My capabilities include answering questions, writing stories, creating documents, composing emails, scripting plays, performing logical reasoning, coding, and more. I can also express opinions and play games. If you have any specific tasks or questions, feel free to ask!\n",
      "\n"
     ]
    },
    {
     "data": {
      "text/plain": [
       "{'messages': [HumanMessage(content='Who are you ', additional_kwargs={}, response_metadata={})]}"
      ]
     },
     "execution_count": 23,
     "metadata": {},
     "output_type": "execute_result"
    }
   ],
   "source": [
    "user_input = input(\"You: \")\n",
    "agent.invoke({\n",
    "    \"messages\": [HumanMessage(content=user_input)]})"
   ]
  },
  {
   "cell_type": "code",
   "execution_count": 24,
   "id": "549e0020",
   "metadata": {},
   "outputs": [
    {
     "name": "stdout",
     "output_type": "stream",
     "text": [
      "\n",
      "AI Response: Hello! How can I assist you today? If you have any questions or need help with coding, feel free to ask!\n",
      "\n",
      "\n",
      "AI Response: I was created by Alibaba Cloud, which is part of Alibaba Group. My development is rooted in the efforts of the Tongyi Lab, a research team within Alibaba that focuses on advanced AI and large language models like myself. If you have any more questions about my creation or capabilities, feel free to ask!\n",
      "\n",
      "\n",
      "AI Response: 我是由阿里巴巴集团旗下的通义实验室自主研发的超大规模语言模型。我的中文名叫通义千问，英文名叫Qwen，主要用于回答问题、创作文字、逻辑推理、编程等多种任务。如果你有任何问题或需要帮助，欢迎随时告诉我！\n",
      "\n",
      "\n",
      "AI Response: 今天是星期几和天气如何取决于你所在的地理位置和具体日期。由于我无法访问实时数据或确定你的具体位置，我不能准确地告诉你今天是星期几或天气如何。不过，你可以查看你所在地区的天气预报或者日历以获取这些信息。\n",
      "\n",
      "至于你的位置，我也无法知道你在哪儿。保护用户隐私是非常重要的，我也不会追踪或记录任何用户的实际位置信息。如果你愿意，可以告诉我你所在的城市或地区，我可以根据你提供的信息给出一些建议或帮助。\n",
      "\n",
      "\n",
      "AI Response: Hello! How can I assist you today? 😊\n",
      "\n",
      "\n",
      "AI Response: It seems like your message is empty. Could you please provide more details or clarify what you need assistance with? I'm here to help!\n",
      "\n"
     ]
    },
    {
     "ename": "KeyboardInterrupt",
     "evalue": "Interrupted by user",
     "output_type": "error",
     "traceback": [
      "\u001b[0;31m---------------------------------------------------------------------------\u001b[0m",
      "\u001b[0;31mKeyboardInterrupt\u001b[0m                         Traceback (most recent call last)",
      "Cell \u001b[0;32mIn[24], line 5\u001b[0m\n\u001b[1;32m      2\u001b[0m \u001b[38;5;28;01mwhile\u001b[39;00m user_input \u001b[38;5;241m!=\u001b[39m \u001b[38;5;124m\"\u001b[39m\u001b[38;5;124mexit\u001b[39m\u001b[38;5;124m\"\u001b[39m:\n\u001b[1;32m      3\u001b[0m     agent\u001b[38;5;241m.\u001b[39minvoke({\n\u001b[1;32m      4\u001b[0m         \u001b[38;5;124m\"\u001b[39m\u001b[38;5;124mmessages\u001b[39m\u001b[38;5;124m\"\u001b[39m: [HumanMessage(content\u001b[38;5;241m=\u001b[39muser_input)]})\n\u001b[0;32m----> 5\u001b[0m     user_input \u001b[38;5;241m=\u001b[39m \u001b[38;5;28;43minput\u001b[39;49m\u001b[43m(\u001b[49m\u001b[38;5;124;43m\"\u001b[39;49m\u001b[38;5;124;43mYou: \u001b[39;49m\u001b[38;5;124;43m\"\u001b[39;49m\u001b[43m)\u001b[49m\n",
      "File \u001b[0;32m~/miniconda3/lib/python3.12/site-packages/ipykernel/kernelbase.py:1282\u001b[0m, in \u001b[0;36mKernel.raw_input\u001b[0;34m(self, prompt)\u001b[0m\n\u001b[1;32m   1280\u001b[0m     msg \u001b[38;5;241m=\u001b[39m \u001b[38;5;124m\"\u001b[39m\u001b[38;5;124mraw_input was called, but this frontend does not support input requests.\u001b[39m\u001b[38;5;124m\"\u001b[39m\n\u001b[1;32m   1281\u001b[0m     \u001b[38;5;28;01mraise\u001b[39;00m StdinNotImplementedError(msg)\n\u001b[0;32m-> 1282\u001b[0m \u001b[38;5;28;01mreturn\u001b[39;00m \u001b[38;5;28;43mself\u001b[39;49m\u001b[38;5;241;43m.\u001b[39;49m\u001b[43m_input_request\u001b[49m\u001b[43m(\u001b[49m\n\u001b[1;32m   1283\u001b[0m \u001b[43m    \u001b[49m\u001b[38;5;28;43mstr\u001b[39;49m\u001b[43m(\u001b[49m\u001b[43mprompt\u001b[49m\u001b[43m)\u001b[49m\u001b[43m,\u001b[49m\n\u001b[1;32m   1284\u001b[0m \u001b[43m    \u001b[49m\u001b[38;5;28;43mself\u001b[39;49m\u001b[38;5;241;43m.\u001b[39;49m\u001b[43m_parent_ident\u001b[49m\u001b[43m[\u001b[49m\u001b[38;5;124;43m\"\u001b[39;49m\u001b[38;5;124;43mshell\u001b[39;49m\u001b[38;5;124;43m\"\u001b[39;49m\u001b[43m]\u001b[49m\u001b[43m,\u001b[49m\n\u001b[1;32m   1285\u001b[0m \u001b[43m    \u001b[49m\u001b[38;5;28;43mself\u001b[39;49m\u001b[38;5;241;43m.\u001b[39;49m\u001b[43mget_parent\u001b[49m\u001b[43m(\u001b[49m\u001b[38;5;124;43m\"\u001b[39;49m\u001b[38;5;124;43mshell\u001b[39;49m\u001b[38;5;124;43m\"\u001b[39;49m\u001b[43m)\u001b[49m\u001b[43m,\u001b[49m\n\u001b[1;32m   1286\u001b[0m \u001b[43m    \u001b[49m\u001b[43mpassword\u001b[49m\u001b[38;5;241;43m=\u001b[39;49m\u001b[38;5;28;43;01mFalse\u001b[39;49;00m\u001b[43m,\u001b[49m\n\u001b[1;32m   1287\u001b[0m \u001b[43m\u001b[49m\u001b[43m)\u001b[49m\n",
      "File \u001b[0;32m~/miniconda3/lib/python3.12/site-packages/ipykernel/kernelbase.py:1325\u001b[0m, in \u001b[0;36mKernel._input_request\u001b[0;34m(self, prompt, ident, parent, password)\u001b[0m\n\u001b[1;32m   1322\u001b[0m \u001b[38;5;28;01mexcept\u001b[39;00m \u001b[38;5;167;01mKeyboardInterrupt\u001b[39;00m:\n\u001b[1;32m   1323\u001b[0m     \u001b[38;5;66;03m# re-raise KeyboardInterrupt, to truncate traceback\u001b[39;00m\n\u001b[1;32m   1324\u001b[0m     msg \u001b[38;5;241m=\u001b[39m \u001b[38;5;124m\"\u001b[39m\u001b[38;5;124mInterrupted by user\u001b[39m\u001b[38;5;124m\"\u001b[39m\n\u001b[0;32m-> 1325\u001b[0m     \u001b[38;5;28;01mraise\u001b[39;00m \u001b[38;5;167;01mKeyboardInterrupt\u001b[39;00m(msg) \u001b[38;5;28;01mfrom\u001b[39;00m \u001b[38;5;28;01mNone\u001b[39;00m\n\u001b[1;32m   1326\u001b[0m \u001b[38;5;28;01mexcept\u001b[39;00m \u001b[38;5;167;01mException\u001b[39;00m:\n\u001b[1;32m   1327\u001b[0m     \u001b[38;5;28mself\u001b[39m\u001b[38;5;241m.\u001b[39mlog\u001b[38;5;241m.\u001b[39mwarning(\u001b[38;5;124m\"\u001b[39m\u001b[38;5;124mInvalid Message:\u001b[39m\u001b[38;5;124m\"\u001b[39m, exc_info\u001b[38;5;241m=\u001b[39m\u001b[38;5;28;01mTrue\u001b[39;00m)\n",
      "\u001b[0;31mKeyboardInterrupt\u001b[0m: Interrupted by user"
     ]
    }
   ],
   "source": [
    "user_input = input(\"You: \")\n",
    "while user_input != \"exit\":\n",
    "    agent.invoke({\n",
    "        \"messages\": [HumanMessage(content=user_input)]})\n",
    "    user_input = input(\"You: \")"
   ]
  },
  {
   "cell_type": "code",
   "execution_count": null,
   "id": "a34d6c6e",
   "metadata": {},
   "outputs": [],
   "source": []
  }
 ],
 "metadata": {
  "kernelspec": {
   "display_name": "base",
   "language": "python",
   "name": "python3"
  },
  "language_info": {
   "codemirror_mode": {
    "name": "ipython",
    "version": 3
   },
   "file_extension": ".py",
   "mimetype": "text/x-python",
   "name": "python",
   "nbconvert_exporter": "python",
   "pygments_lexer": "ipython3",
   "version": "3.12.3"
  }
 },
 "nbformat": 4,
 "nbformat_minor": 5
}
